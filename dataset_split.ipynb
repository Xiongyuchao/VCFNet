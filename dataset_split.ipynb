{
 "cells": [
  {
   "cell_type": "code",
   "execution_count": 1,
   "metadata": {},
   "outputs": [],
   "source": [
    "import os\n",
    "from shutil import copyfile\n",
    "from torch.utils.data import random_split\n"
   ]
  },
  {
   "cell_type": "code",
   "execution_count": null,
   "metadata": {},
   "outputs": [],
   "source": [
    "for i in [\"Acute\", \"Chronic\", \"Pathologic\"]:\n",
    "    source = os.path.join(\"./images/\", i)\n",
    "\n",
    "    init_dataset = [(x + 1) for x in range(len(os.listdir(source)))]\n",
    "    file_name = os.listdir(source)\n",
    "\n",
    "    trainSize = int(len(init_dataset) * 0.8)\n",
    "    validateSize = int(len(init_dataset) - trainSize)\n",
    "\n",
    "    (trainIndex, validateIndex,) = random_split(\n",
    "        init_dataset,\n",
    "        [trainSize, validateSize],\n",
    "    )\n",
    "\n",
    "    target = \"./images\"\n",
    "\n",
    "    if not os.path.exists(target):\n",
    "        os.mkdir(target)\n",
    "\n",
    "    if not os.path.exists(os.path.join(target, \"train\")):\n",
    "        os.mkdir(os.path.join(target, \"train\"))\n",
    "\n",
    "    if not os.path.exists(os.path.join(target, \"validate\")):\n",
    "        os.mkdir(os.path.join(target, \"validate\"))\n",
    "\n",
    "    if not os.path.exists(os.path.join(target, \"train\", i)):\n",
    "        os.mkdir(os.path.join(target, \"train\", i))\n",
    "    if not os.path.exists(os.path.join(target, \"validate\", i)):\n",
    "        os.mkdir(os.path.join(target, \"validate\", i))\n",
    "\n",
    "    for j in trainIndex.indices:\n",
    "        copyfile(\n",
    "            os.path.join(source, file_name[j]),\n",
    "            os.path.join(os.path.join(target, \"train\", i, file_name[j])),\n",
    "        )\n",
    "\n",
    "    for j in validateIndex.indices:\n",
    "        copyfile(\n",
    "            os.path.join(source, file_name[j]),\n",
    "            os.path.join(os.path.join(target, \"validate\", i, file_name[j])),\n",
    "        )\n"
   ]
  }
 ],
 "metadata": {
  "interpreter": {
   "hash": "72c605d5602c9b8a3002150d57919959998f5c84761bc473b8f0e6a45f51da37"
  },
  "kernelspec": {
   "display_name": "Python 3.9.7 64-bit ('venv': venv)",
   "language": "python",
   "name": "python3"
  },
  "language_info": {
   "codemirror_mode": {
    "name": "ipython",
    "version": 3
   },
   "file_extension": ".py",
   "mimetype": "text/x-python",
   "name": "python",
   "nbconvert_exporter": "python",
   "pygments_lexer": "ipython3",
   "version": "3.9.7"
  },
  "orig_nbformat": 4
 },
 "nbformat": 4,
 "nbformat_minor": 2
}
