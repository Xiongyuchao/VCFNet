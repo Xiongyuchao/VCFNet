{
 "cells": [
  {
   "cell_type": "code",
   "execution_count": null,
   "metadata": {},
   "outputs": [],
   "source": [
    "import os\n",
    "import cv2 as cv\n",
    "import xml.etree.ElementTree as ET\n"
   ]
  },
  {
   "cell_type": "code",
   "execution_count": null,
   "metadata": {},
   "outputs": [],
   "source": [
    "label_path = \"./label\"\n",
    "target_path = \"./images\"\n",
    "\n",
    "if not os.path.exists(target_path):\n",
    "    os.mkdir(target_path)\n",
    "\n",
    "if not os.path.exists(os.path.join(target_path, \"Acute\")):\n",
    "    os.mkdir(os.path.join(target_path, \"Acute\"))\n",
    "\n",
    "if not os.path.exists(os.path.join(target_path, \"Chronic\")):\n",
    "    os.mkdir(os.path.join(target_path, \"Chronic\"))\n",
    "\n",
    "if not os.path.exists(os.path.join(target_path, \"Pathologic\")):\n",
    "    os.mkdir(os.path.join(target_path, \"Pathologic\"))\n",
    "\n",
    "begin_index = len(os.listdir(target_path))\n",
    "\n",
    "for i in os.listdir(label_path):\n",
    "    if i.endswith(\".xml\"):\n",
    "        tree = ET.parse(os.path.join(label_path, i))\n",
    "        img = cv.imread(os.path.join(label_path, i.split(\".\")[0] + \".png\"), -1)\n",
    "        if img is None:\n",
    "            print(i)\n",
    "        for j in tree.findall(\"object\"):\n",
    "            label_class = j.find(\"name\").text.split(\"-\")[0]\n",
    "            label_index = j.find(\"name\").text.split(\"-\")[1][1:]\n",
    "            age = i.split(\"-\")[-2]\n",
    "            if int(age) > 100:\n",
    "                age = 2021 - int(int(age) / 10000)\n",
    "            sex = i.split(\"-\")[-1][0]\n",
    "            xmin = int(j.find(\"bndbox\").find(\"xmin\").text)\n",
    "            ymin = int(j.find(\"bndbox\").find(\"ymin\").text)\n",
    "            xmax = int(j.find(\"bndbox\").find(\"xmax\").text)\n",
    "            ymax = int(j.find(\"bndbox\").find(\"ymax\").text)\n",
    "            cv.imwrite(\n",
    "                os.path.join(\n",
    "                    target_path,\n",
    "                    label_class,\n",
    "                    \"{}-{}-{}-{}-{}.png\".format(\n",
    "                        begin_index, label_class, label_index, age, sex\n",
    "                    ),\n",
    "                ),\n",
    "                img[ymin:ymax, xmin:xmax],\n",
    "            )\n",
    "            begin_index += 1\n"
   ]
  }
 ],
 "metadata": {
  "interpreter": {
   "hash": "d8744ab4687c54579a670fdaad96c0a94f05eacaa79a4e9d80fba2af56590fcf"
  },
  "kernelspec": {
   "display_name": "Python 3.9.7 64-bit ('venv': venv)",
   "language": "python",
   "name": "python3"
  },
  "language_info": {
   "codemirror_mode": {
    "name": "ipython",
    "version": 3
   },
   "file_extension": ".py",
   "mimetype": "text/x-python",
   "name": "python",
   "nbconvert_exporter": "python",
   "pygments_lexer": "ipython3",
   "version": "3.9.7"
  },
  "orig_nbformat": 4
 },
 "nbformat": 4,
 "nbformat_minor": 2
}
